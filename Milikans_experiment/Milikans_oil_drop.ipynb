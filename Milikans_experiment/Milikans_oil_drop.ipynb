{
  "nbformat": 4,
  "nbformat_minor": 0,
  "metadata": {
    "colab": {
      "provenance": [],
      "include_colab_link": true
    },
    "kernelspec": {
      "name": "python3",
      "display_name": "Python 3"
    },
    "language_info": {
      "name": "python"
    }
  },
  "cells": [
    {
      "cell_type": "markdown",
      "metadata": {
        "id": "view-in-github",
        "colab_type": "text"
      },
      "source": [
        "<a href=\"https://colab.research.google.com/github/sSteam-cube/P_345-P_343-Laboratory-Resources/blob/main/Milikans_experiment/Milikans_oil_drop.ipynb\" target=\"_parent\"><img src=\"https://colab.research.google.com/assets/colab-badge.svg\" alt=\"Open In Colab\"/></a>"
      ]
    },
    {
      "cell_type": "markdown",
      "source": [
        "# Dynamic Method\n"
      ],
      "metadata": {
        "id": "N1-afeeFFlHX"
      }
    },
    {
      "cell_type": "code",
      "source": [
        "import numpy as np\n",
        "import pandas as pd\n",
        "import statistics as stats\n",
        "\n",
        "# Constants\n",
        "C = 190.13\n",
        "D = 9.04e-9\n",
        "zeta = 4.06e-8\n",
        "L = 1.0e-3  # distance between lines in m\n",
        "\n",
        "\n",
        "dynamic_data =  [\n",
        "    ([15.8, 16, 16.5, 19.5, 18.4], [8.1, 7.5, 8.1, 7.7, 7.6], 294),  # Droplet 1\n",
        "    ([16.2, 17.0, 16.3, 16.8, 17.4], [4.3, 4.2, 4.2, 4.2, 4.1], 140),  # Droplet 2\n",
        "    ([17.4, 15.6, 15.8, 15.7, 15.5], [2.1, 2.1, 2.2, 2.1, 2.4], 141),  # Droplet 3\n",
        "    ([21.9, 20.2, 20.6, 19.6, 20.8], [7.0, 7.1, 7.1, 6.4, 7.1], 274),  # Droplet 4\n",
        "    ([17.6, 18.0, 18.0, 16.2], [4.8, 4.8, 4.7, 5.2], 140),             # Droplet 5\n",
        "    ([5.4, 5.4, 5.4, 5.7, 5.7], [4.4, 4.7, 4.3, 4.0, 4.5], 300)        # Droplet 6\n",
        "]\n",
        "\n",
        "# Compute means\n",
        "data = [\n",
        "    [stats.mean(pos), stats.mean(vel), val]\n",
        "    for pos, vel, val in dynamic_data\n",
        "]\n",
        "\n",
        "results = []\n",
        "\n",
        "for tf, tr, V in data:\n",
        "    vf = L / tf                      # free-fall velocity\n",
        "    xi = D * vf                      # ξ\n",
        "    r = -zeta + np.sqrt(zeta**2 + xi)  # radius\n",
        "    r3 = r**3\n",
        "    T = 1 + (tf / tr)\n",
        "    ne = (C * T * r3) / V            # charge\n",
        "    results.append([xi, r, r3, T, ne])\n",
        "\n",
        "# Make a table\n",
        "df = pd.DataFrame(results, columns=[\"ξ (m²)\", \"r (m)\", \"r³ (m³)\", \"T\", \"ne (C)\"])\n",
        "print(df)\n",
        "\n",
        "# --- Continue from your previous code ---\n",
        "\n",
        "# Extract ne column\n",
        "ne_values = df[\"ne (C)\"].to_numpy()\n",
        "\n",
        "# Step 1: minimum value of ne\n",
        "ne_min = ne_values.min()\n",
        "\n",
        "# Step 2–4: build the table\n",
        "table = []\n",
        "for ne in ne_values:\n",
        "    ratio = ne / ne_min\n",
        "    n_eff = int(round(ratio))  # nearest integer\n",
        "    e_val = ne / n_eff\n",
        "    table.append([ne, ratio, n_eff, e_val])\n",
        "\n",
        "# Step 5: average e\n",
        "avg_e = np.mean([row[3] for row in table])\n",
        "\n",
        "# Create DataFrame for clarity\n",
        "df_dynamic = pd.DataFrame(\n",
        "    table,\n",
        "    columns=[\"ne (C)\", \"ne / lowest\", \"nearest integer (n_eff)\", \"ne / n_eff\"]\n",
        ")\n",
        "\n",
        "print(\"Dynamic Method Data:\\n\", df_dynamic)\n",
        "print(\"\\nAverage elementary charge estimate =\", avg_e)"
      ],
      "metadata": {
        "colab": {
          "base_uri": "https://localhost:8080/"
        },
        "id": "wYqtVU2WrdC0",
        "outputId": "d5121229-195d-45da-93f0-aab86dc249c8"
      },
      "execution_count": null,
      "outputs": [
        {
          "output_type": "stream",
          "name": "stdout",
          "text": [
            "         ξ (m²)         r (m)       r³ (m³)         T        ne (C)\n",
            "0  5.243619e-13  6.846657e-07  3.209487e-19  3.210256  6.663137e-19\n",
            "1  5.400239e-13  6.953839e-07  3.362589e-19  4.985714  2.276795e-18\n",
            "2  5.650000e-13  7.121605e-07  3.611883e-19  8.339450  4.061651e-18\n",
            "3  4.384093e-13  6.227684e-07  2.415348e-19  3.971182  6.655790e-19\n",
            "4  5.180516e-13  6.803022e-07  3.148514e-19  4.579487  1.958146e-18\n",
            "5  1.637681e-12  1.239763e-06  1.905531e-18  2.260274  2.729647e-18\n",
            "Dynamic Method Data:\n",
            "          ne (C)  ne / lowest  nearest integer (n_eff)    ne / n_eff\n",
            "0  6.663137e-19     1.001104                        1  6.663137e-19\n",
            "1  2.276795e-18     3.420773                        3  7.589315e-19\n",
            "2  4.061651e-18     6.102432                        6  6.769418e-19\n",
            "3  6.655790e-19     1.000000                        1  6.655790e-19\n",
            "4  1.958146e-18     2.942019                        3  6.527153e-19\n",
            "5  2.729647e-18     4.101162                        4  6.824118e-19\n",
            "\n",
            "Average elementary charge estimate = 6.838154966323025e-19\n"
          ]
        }
      ]
    },
    {
      "cell_type": "markdown",
      "source": [
        "# Balancing Method"
      ],
      "metadata": {
        "id": "XEF-ZI_zFeIQ"
      }
    },
    {
      "cell_type": "code",
      "source": [
        "import numpy as np\n",
        "\n",
        "# This script combines the full calculation and analysis for the\n",
        "# Millikan oil drop experiment's Balancing Method.\n",
        "\n",
        "# --- Constants from the Millikan Oil Drop Experiment Manual ---\n",
        "L = 1.0e-3      # Distance the droplet falls in meters\n",
        "C = 190.13      # Pre-calculated constant\n",
        "D = 9.04e-9     # Pre-calculated constant\n",
        "zeta = 4.06e-8  # Pre-calculated constant\n",
        "\n",
        "# --- Experimental Data from Handwritten Notes ---\n",
        "free_fall_times = [\n",
        "    [15.6, 15.0, 17.1, 16.1, 16.0],\n",
        "    [9.0, 8.5, 8.5, 9.5, 9.1],\n",
        "    [18.0, 20.1, 19.1, 20.6, 19.5],\n",
        "    [13.5, 12.5, 13.7, 12.7, 12.1],\n",
        "    [12.5, 13.3, 12.6, 12.8, 12.9]\n",
        "]\n",
        "\n",
        "balancing_voltages = [\n",
        "    [348, 332, 315, 333, 325],\n",
        "    [394, 387, 404, 392, 399],\n",
        "    [220, 212, 200, 207, 211],\n",
        "    [470, 474, 477, 475, 477],\n",
        "    [453, 449, 452, 455, 447]\n",
        "]\n",
        "\n",
        "# --- Part 1: Calculation of Total Charge (ne) on Each Droplet ---\n",
        "\n",
        "print(\"## Part 1: Balancing Method Calculation\")\n",
        "print(\"-\" * 95)\n",
        "print(f\"{'Droplet No.':<15}{'ξ (=Dv_f)':<20}{'r (=-ζ+sqrt(ζ²+ξ))':<25}{'r³':<20}{'ne (=Cr³/Vb)':<20}\")\n",
        "print(\"-\" * 95)\n",
        "\n",
        "ne_values = []\n",
        "table_data_for_user = [] # List to store data for the user's table\n",
        "\n",
        "for i in range(len(free_fall_times)):\n",
        "    droplet_num = i + 1\n",
        "\n",
        "    t_f = np.mean(free_fall_times[i])\n",
        "    V_b = np.mean(balancing_voltages[i])\n",
        "    v_f = L / t_f\n",
        "    xi = D * v_f\n",
        "    r = -zeta + np.sqrt(zeta**2 + xi)\n",
        "    r_cubed = r**3\n",
        "    ne = (C * r_cubed) / V_b\n",
        "\n",
        "    ne_values.append(ne)\n",
        "    # Store the intermediate results needed for the user's table\n",
        "    table_data_for_user.append({'droplet': droplet_num, 't_f': t_f, 'v_f': v_f, 'V_b': V_b})\n",
        "\n",
        "    print(f\"{droplet_num:<15}\"\n",
        "          f\"{xi:<20.3e}\"\n",
        "          f\"{r:<25.3e}\"\n",
        "          f\"{r_cubed:<20.3e}\"\n",
        "          f\"{ne:<20.3e}\")\n",
        "print(\"-\" * 95)\n",
        "\n",
        "# --- Part 2: Analysis of Quantized Charge to Find 'e' ---\n",
        "\n",
        "print(\"\\n## Part 2: Analysis of Charge to Determine 'e'\")\n",
        "\n",
        "lowest_ne = np.min(ne_values)\n",
        "e_values = []\n",
        "\n",
        "print(\"-\" * 95)\n",
        "print(f\"{'Droplet No.':<15}{'ne':<20}{'ne / lowest_ne':<25}{'n_eff (integer)':<20}{'e = ne/n_eff':<20}\")\n",
        "print(\"-\" * 95)\n",
        "\n",
        "for i, ne in enumerate(ne_values):\n",
        "    ratio = ne / lowest_ne\n",
        "    n_eff = int(np.round(ratio))\n",
        "    e = ne / n_eff\n",
        "    e_values.append(e)\n",
        "\n",
        "    print(f\"{i+1:<15}\"\n",
        "          f\"{ne:<20.3e}\"\n",
        "          f\"{ratio:<25.3f}\"\n",
        "          f\"{n_eff:<20}\"\n",
        "          f\"{e:<20.3e}\")\n",
        "print(\"-\" * 95)\n",
        "\n",
        "average_e = np.mean(e_values)\n",
        "print(f\"\\n🧪 **Final Result**: The average experimental value for 'e' is: **{average_e:.4e} C**\")\n",
        "\n",
        "\n"
      ],
      "metadata": {
        "colab": {
          "base_uri": "https://localhost:8080/"
        },
        "id": "a3K7j7l97a3V",
        "outputId": "444fb6f9-2543-4654-9253-5d9b0d13b704"
      },
      "execution_count": null,
      "outputs": [
        {
          "output_type": "stream",
          "name": "stdout",
          "text": [
            "## Part 1: Balancing Method Calculation\n",
            "-----------------------------------------------------------------------------------------------\n",
            "Droplet No.    ξ (=Dv_f)           r (=-ζ+sqrt(ζ²+ξ))       r³                  ne (=Cr³/Vb)        \n",
            "-----------------------------------------------------------------------------------------------\n",
            "1              5.664e-13           7.131e-07                3.626e-19           2.085e-19           \n",
            "2              1.013e-12           9.669e-07                9.040e-19           4.349e-19           \n",
            "3              4.645e-13           6.422e-07                2.648e-19           2.398e-19           \n",
            "4              7.008e-13           7.975e-07                5.072e-19           2.032e-19           \n",
            "5              7.051e-13           8.001e-07                5.122e-19           2.158e-19           \n",
            "-----------------------------------------------------------------------------------------------\n",
            "\n",
            "## Part 2: Analysis of Charge to Determine 'e'\n",
            "-----------------------------------------------------------------------------------------------\n",
            "Droplet No.    ne                  ne / lowest_ne           n_eff (integer)     e = ne/n_eff        \n",
            "-----------------------------------------------------------------------------------------------\n",
            "1              2.085e-19           1.026                    1                   2.085e-19           \n",
            "2              4.349e-19           2.140                    2                   2.175e-19           \n",
            "3              2.398e-19           1.180                    1                   2.398e-19           \n",
            "4              2.032e-19           1.000                    1                   2.032e-19           \n",
            "5              2.158e-19           1.062                    1                   2.158e-19           \n",
            "-----------------------------------------------------------------------------------------------\n",
            "\n",
            "🧪 **Final Result**: The average experimental value for 'e' is: **2.1696e-19 C**\n"
          ]
        }
      ]
    },
    {
      "cell_type": "code",
      "source": [
        "# --- Part 3: Values for Your Observation Table ---\n",
        "\n",
        "print(\"\\n\\n## Part 3: Data for Your Observation Table 📝\")\n",
        "print(\"Here are the specific values you requested to fill in your table:\")\n",
        "\n",
        "for data in table_data_for_user:\n",
        "    print(\"-\" * 55)\n",
        "    print(f\"**Droplet {data['droplet']}**\")\n",
        "    print(f\"  - Mean Free-fall Time (t_f):      {data['t_f']:.2f} s\")\n",
        "    print(f\"  - Mean Free-fall Velocity (v_f):  {data['v_f']:.4e} m/s\")\n",
        "    print(f\"  - Final Balancing Voltage (V_b):  {data['V_b']:.2f} V\")\n",
        "print(\"-\" * 55)"
      ],
      "metadata": {
        "id": "329zB9lm85Fn",
        "outputId": "cc3e6f30-7dd4-4ea7-9580-b654edeac434",
        "colab": {
          "base_uri": "https://localhost:8080/"
        }
      },
      "execution_count": null,
      "outputs": [
        {
          "output_type": "stream",
          "name": "stdout",
          "text": [
            "\n",
            "\n",
            "## Part 3: Data for Your Observation Table 📝\n",
            "Here are the specific values you requested to fill in your table:\n",
            "-------------------------------------------------------\n",
            "**Droplet 1**\n",
            "  - Mean Free-fall Time (t_f):      15.96 s\n",
            "  - Mean Free-fall Velocity (v_f):  6.2657e-05 m/s\n",
            "  - Final Balancing Voltage (V_b):  330.60 V\n",
            "-------------------------------------------------------\n",
            "**Droplet 2**\n",
            "  - Mean Free-fall Time (t_f):      8.92 s\n",
            "  - Mean Free-fall Velocity (v_f):  1.1211e-04 m/s\n",
            "  - Final Balancing Voltage (V_b):  395.20 V\n",
            "-------------------------------------------------------\n",
            "**Droplet 3**\n",
            "  - Mean Free-fall Time (t_f):      19.46 s\n",
            "  - Mean Free-fall Velocity (v_f):  5.1387e-05 m/s\n",
            "  - Final Balancing Voltage (V_b):  210.00 V\n",
            "-------------------------------------------------------\n",
            "**Droplet 4**\n",
            "  - Mean Free-fall Time (t_f):      12.90 s\n",
            "  - Mean Free-fall Velocity (v_f):  7.7519e-05 m/s\n",
            "  - Final Balancing Voltage (V_b):  474.60 V\n",
            "-------------------------------------------------------\n",
            "**Droplet 5**\n",
            "  - Mean Free-fall Time (t_f):      12.82 s\n",
            "  - Mean Free-fall Velocity (v_f):  7.8003e-05 m/s\n",
            "  - Final Balancing Voltage (V_b):  451.20 V\n",
            "-------------------------------------------------------\n"
          ]
        }
      ]
    },
    {
      "cell_type": "code",
      "source": [
        "np.array(e_values)/1.602e-19"
      ],
      "metadata": {
        "colab": {
          "base_uri": "https://localhost:8080/"
        },
        "id": "2iMxn2ZEuLDN",
        "outputId": "270f897c-3e95-4838-dd92-2711711079c3"
      },
      "execution_count": null,
      "outputs": [
        {
          "output_type": "execute_result",
          "data": {
            "text/plain": [
              "array([1.30177959, 1.35742547, 1.49672791, 1.26842303, 1.34732168])"
            ]
          },
          "metadata": {},
          "execution_count": 10
        }
      ]
    }
  ]
}